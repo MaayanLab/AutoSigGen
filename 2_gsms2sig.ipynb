{
 "cells": [
  {
   "cell_type": "code",
   "execution_count": null,
   "metadata": {},
   "outputs": [],
   "source": [
    "import pandas as pd\n",
    "import h5py as h5\n",
    "import numpy as np\n",
    "from tqdm import tqdm\n",
    "import matplotlib.pyplot as plt\n",
    "from maayanlab_bioinformatics.dge import limma_voom_differential_expression\n",
    "import os"
   ]
  },
  {
   "cell_type": "code",
   "execution_count": null,
   "metadata": {},
   "outputs": [],
   "source": [
    "species = \"mouse\"\n",
    "h5_version = \"2.2\"\n",
    "gsm4sig_version = 2\n",
    "\n",
    "# Create a folder for results \n",
    "os.makedirs(f'results/{species}/', exist_ok=True)"
   ]
  },
  {
   "cell_type": "code",
   "execution_count": null,
   "metadata": {},
   "outputs": [],
   "source": [
    "# Load ARCHS4 data\n",
    "f = h5.File(f\"../{species}_gene_v{h5_version}.h5\", \"r\")\n",
    "expression = f['data/expression']\n",
    "genes = [x.decode('UTF-8') for x in f['meta/genes/symbol']]\n",
    "samples = [x.decode('UTF-8') for x in f['meta/samples/geo_accession']] #GSMs"
   ]
  },
  {
   "cell_type": "code",
   "execution_count": null,
   "metadata": {},
   "outputs": [],
   "source": [
    "# Define control and pertubration samples\n",
    "study = 'GSE100363'\n",
    "ctrl = ['GSM2679560','GSM2679562','GSM2679564','GSM2679566']\n",
    "pert = ['GSM2679559','GSM2679561','GSM2679563','GSM2679565']"
   ]
  },
  {
   "cell_type": "code",
   "execution_count": null,
   "metadata": {},
   "outputs": [],
   "source": [
    "# Perform DEG analysis with Limma\n",
    "# study_idx: index of study\n",
    "# study_name: GSE\n",
    "# control_samples: list of control GSMs\n",
    "# pert_samples: list of perturbation GSMs\n",
    "\n",
    "def degAnalysisLimma (study_idx, study_name, control_samples, pert_samples):\n",
    "\n",
    "    if (os.path.isfile(f'results/{species}/{study_idx}_{study_name}_limma_results.csv')):\n",
    "        return\n",
    "    \n",
    "    # Find where control and perturbation samples are in ARCHS4\n",
    "    control_idx = sorted([i for i,x in enumerate(samples) if x in control_samples])\n",
    "    pert_idx =  sorted([i for i,x in enumerate(samples) if x in pert_samples])\n",
    "    \n",
    "    # Subset control samples to dataframe\n",
    "    control_df = pd.DataFrame(expression[:,control_idx]).astype(int)\n",
    "    control_df.index = genes\n",
    "    control_df.columns = ['control' + str(n) for n in range(0,len(control_df.columns))]\n",
    "    \n",
    "    # Subset perturbation samples to dataframe\n",
    "    pert_df = pd.DataFrame(expression[:,pert_idx]).astype(int)\n",
    "    pert_df.index = genes\n",
    "    pert_df.columns = ['pert' + str(n) for n in range(0,len(pert_df.columns))]\n",
    "\n",
    "    # Limma voom expects the raw gene counts\n",
    "    # Perform DEG analysis\n",
    "    deg_results = limma_voom_differential_expression(controls_mat= control_df, cases_mat= pert_df, voom_design=True,filter_genes=True)\n",
    "    \n",
    "    # Save results to csv file in results folder \n",
    "    deg_results.to_csv(f'results/{species}/{study_idx}_{study_name}_limma_results.csv')\n"
   ]
  },
  {
   "cell_type": "code",
   "execution_count": null,
   "metadata": {},
   "outputs": [],
   "source": [
    "gsm4sig = pd.read_csv(f\"data/{species}_gsm4sig_v{gsm4sig_version}.csv\", converters = {\"ctrl_gsm\":eval, \"pert_gsm\":eval}, index_col=0)"
   ]
  },
  {
   "cell_type": "code",
   "execution_count": null,
   "metadata": {},
   "outputs": [],
   "source": [
    "len(gsm4sig)"
   ]
  },
  {
   "cell_type": "code",
   "execution_count": null,
   "metadata": {
    "scrolled": true
   },
   "outputs": [],
   "source": [
    "for idx in tqdm(gsm4sig.index.values):\n",
    "    try:\n",
    "        degAnalysisLimma(idx, gsm4sig.at[idx, \"series_id\"], gsm4sig.at[idx, \"ctrl_gsm\"], gsm4sig.at[idx, \"pert_gsm\"])\n",
    "    except Exception as e:\n",
    "        print(idx)\n",
    "        print(e)\n",
    "    "
   ]
  },
  {
   "cell_type": "code",
   "execution_count": null,
   "metadata": {},
   "outputs": [],
   "source": [
    "f.close()"
   ]
  },
  {
   "cell_type": "code",
   "execution_count": null,
   "metadata": {},
   "outputs": [],
   "source": [
    "print(f\"Signature statistics for {species}:\\n\")\n",
    "print(f\"Total Signatures: {len(gsm4sig['extrap_score'])}\")\n",
    "print(f\"High quality signatures (score=0,1): \\\n",
    "{sum(gsm4sig['extrap_score'].value_counts()[[0,1]])/sum(gsm4sig['extrap_score'].value_counts())*100:.2f}%\")\n",
    "print(f\"Breakdown by extrap_score:\\n{gsm4sig['extrap_score'].value_counts()}\")\n",
    "plt.bar(gsm4sig[\"extrap_score\"].value_counts().index, gsm4sig[\"extrap_score\"].value_counts())\n",
    "plt.show()"
   ]
  },
  {
   "cell_type": "code",
   "execution_count": null,
   "metadata": {},
   "outputs": [],
   "source": []
  }
 ],
 "metadata": {
  "interpreter": {
   "hash": "68de00419a67eafaffdd5ccc6da89a048dbca2ae1ad23e160afe16f2a307f6d3"
  },
  "kernelspec": {
   "display_name": "Python 3",
   "language": "python",
   "name": "python3"
  },
  "language_info": {
   "codemirror_mode": {
    "name": "ipython",
    "version": 3
   },
   "file_extension": ".py",
   "mimetype": "text/x-python",
   "name": "python",
   "nbconvert_exporter": "python",
   "pygments_lexer": "ipython3",
   "version": "3.9.17"
  }
 },
 "nbformat": 4,
 "nbformat_minor": 2
}
