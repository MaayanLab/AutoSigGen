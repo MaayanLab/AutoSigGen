{
 "cells": [
  {
   "cell_type": "code",
   "execution_count": null,
   "id": "0d90c1fd",
   "metadata": {},
   "outputs": [],
   "source": [
    "import pandas as pd\n",
    "import numpy as np"
   ]
  },
  {
   "cell_type": "code",
   "execution_count": null,
   "id": "d739ac8a",
   "metadata": {},
   "outputs": [],
   "source": [
    "species = \"human\"\n",
    "gsm4sig_version = 1"
   ]
  },
  {
   "cell_type": "code",
   "execution_count": null,
   "id": "4522c387",
   "metadata": {},
   "outputs": [],
   "source": [
    "gsm4sig = pd.read_csv(f\"{species}_gsm4sig_v{gsm4sig_version}.csv\", index_col=0)\n",
    "gsm4sig[\"sig_num\"] = gsm4sig.groupby(\"series_id\").cumcount()+1\n",
    "fc_data = pd.read_csv(f\"all_{species}_fc.csv\", index_col=0, nrows = 2)\n",
    "gse_trunc = gsm4sig[\"series_id\"].str.split(\"-\").map(lambda x: x[0])"
   ]
  },
  {
   "cell_type": "code",
   "execution_count": null,
   "id": "6b2a3891",
   "metadata": {},
   "outputs": [],
   "source": [
    "gsm4sig"
   ]
  },
  {
   "cell_type": "code",
   "execution_count": null,
   "id": "f94fc9c9",
   "metadata": {},
   "outputs": [],
   "source": [
    "fc_data"
   ]
  },
  {
   "cell_type": "code",
   "execution_count": null,
   "id": "d589a663",
   "metadata": {},
   "outputs": [],
   "source": [
    "extrap_score = pd.DataFrame([np.repeat(-1, len(fc_data.columns))], columns = fc_data.columns, index = ['score'])"
   ]
  },
  {
   "cell_type": "code",
   "execution_count": null,
   "id": "7282629c",
   "metadata": {},
   "outputs": [],
   "source": [
    "for study in fc_data.columns:\n",
    "    gse, sig_num = study.split()[-1].split(\"_\")\n",
    "    try:\n",
    "        extrap_score.at['score', study] = (gsm4sig.loc[np.isin(gse_trunc, gse) &\n",
    "                                                       (gsm4sig.sig_num == int(sig_num)), \n",
    "                                                       \"extrap_score\"].item())\n",
    "    except:\n",
    "        print(study) #some studies had their sub/super series order flipped, extrap_score manually inputted"
   ]
  },
  {
   "cell_type": "code",
   "execution_count": null,
   "id": "f6e87ad8",
   "metadata": {},
   "outputs": [],
   "source": [
    "extrap_score.loc[\"score\"].value_counts()"
   ]
  },
  {
   "cell_type": "code",
   "execution_count": null,
   "id": "fd3beed4",
   "metadata": {},
   "outputs": [],
   "source": [
    "extrap_score.to_csv(f\"all_{species}_score.csv\")"
   ]
  },
  {
   "cell_type": "code",
   "execution_count": null,
   "id": "14bda2e7",
   "metadata": {},
   "outputs": [],
   "source": []
  }
 ],
 "metadata": {
  "kernelspec": {
   "display_name": "Python 3",
   "language": "python",
   "name": "python3"
  },
  "language_info": {
   "codemirror_mode": {
    "name": "ipython",
    "version": 3
   },
   "file_extension": ".py",
   "mimetype": "text/x-python",
   "name": "python",
   "nbconvert_exporter": "python",
   "pygments_lexer": "ipython3",
   "version": "3.8.10"
  }
 },
 "nbformat": 4,
 "nbformat_minor": 5
}
