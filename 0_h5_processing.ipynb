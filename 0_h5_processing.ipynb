{
 "cells": [
  {
   "cell_type": "code",
   "execution_count": null,
   "id": "1d2e31ea",
   "metadata": {},
   "outputs": [],
   "source": [
    "import pandas as pd\n",
    "import numpy as np\n",
    "import h5py as h5\n",
    "import re"
   ]
  },
  {
   "cell_type": "code",
   "execution_count": null,
   "id": "1b58b433",
   "metadata": {},
   "outputs": [],
   "source": [
    "species = \"mouse\"\n",
    "version = \"2.2\"\n",
    "gsm4sig_version = 2\n",
    "\n",
    "single_cell_prob_thresh = 0.5"
   ]
  },
  {
   "cell_type": "code",
   "execution_count": null,
   "id": "9db5e350",
   "metadata": {},
   "outputs": [],
   "source": [
    "f = h5.File('../'+species+\"_gene_v\"+version+\".h5\", \"r\")\n",
    "gse_scprob = np.array([\n",
    "    f[\"meta\"][\"samples\"][\"series_id\"], \n",
    "    f[\"meta\"][\"samples\"][\"geo_accession\"],\n",
    "    f[\"meta\"][\"samples\"][\"singlecellprobability\"],\n",
    "    f[\"meta\"][\"samples\"][\"title\"]\n",
    "]).T\n",
    "f.close()"
   ]
  },
  {
   "cell_type": "code",
   "execution_count": null,
   "id": "003bf0b5",
   "metadata": {},
   "outputs": [],
   "source": [
    "gse_scprob[:, 0:2] = gse_scprob[:, 0:2].astype(str)\n",
    "gse_scprob[:, 3] = pd.Series(gse_scprob[:, 3]).str.decode(\"utf-8\")\n",
    "print(gse_scprob.shape, \"\\n\", gse_scprob[:10])"
   ]
  },
  {
   "cell_type": "code",
   "execution_count": null,
   "id": "ed2092b8",
   "metadata": {},
   "outputs": [],
   "source": [
    "single_cell_samp = np.argwhere(gse_scprob[:, 2] > single_cell_prob_thresh)       #identify samples w/single cell prob > thresh\n",
    "single_cell_study = np.unique(gse_scprob[single_cell_samp][:,:,0])               #identify studies corresponding to sc samples\n",
    "bulk_study_bool = np.isin(gse_scprob[:, 0], single_cell_study, invert = True)    #boolean mask s.t. {T = bulk, F = sc}\n",
    "bulk_study_idx = np.arange(0, len(bulk_study_bool))[bulk_study_bool]             #index corresponding to bulk RNA-seq (T)\n",
    "bulk_study_meta = np.append(gse_scprob[bulk_study_bool],                         #filtering out scRNA-seq via boolean indexing\n",
    "                            bulk_study_idx[:, np.newaxis], axis = 1)             #and appending corresponding h5 index"
   ]
  },
  {
   "cell_type": "code",
   "execution_count": null,
   "id": "65b4507c",
   "metadata": {},
   "outputs": [],
   "source": [
    "pd.DataFrame(bulk_study_meta).to_csv(\"data/\"\n",
    "    +species+\"_bulk_study_meta.csv\", \n",
    "    header=[\"series_id\", \"geo_accession\", \"singlecellprobability\", \"sample_title\", \"h5_idx\"])"
   ]
  },
  {
   "cell_type": "code",
   "execution_count": null,
   "id": "75266adf",
   "metadata": {},
   "outputs": [],
   "source": [
    "bulk_study_meta.shape, len(np.unique(bulk_study_meta[:, 0]))"
   ]
  },
  {
   "cell_type": "code",
   "execution_count": null,
   "id": "934b59de",
   "metadata": {},
   "outputs": [],
   "source": [
    "frequent_terms_dict = {}\n",
    "for r in bulk_study_meta:\n",
    "    label = r[3]\n",
    "    terms = re.split(r'[_\\-. ,()\\[\\]]', label.strip('[]'))\n",
    "    for t in terms:\n",
    "        try:\n",
    "            if str(int(t)) == t:\n",
    "                continue\n",
    "        except:\n",
    "            t = t.lower()\n",
    "            if len(t.strip()) < 2:\n",
    "                continue\n",
    "            if t not in frequent_terms_dict:\n",
    "                frequent_terms_dict[t] = 0\n",
    "            frequent_terms_dict[t] += 1"
   ]
  },
  {
   "cell_type": "code",
   "execution_count": null,
   "id": "98f52aeb",
   "metadata": {},
   "outputs": [],
   "source": [
    "def categorize_labels(t):\n",
    "    if t in ['wt', 'wildtype', 'control', 'cntrl', 'ctrl', 'uninfected', 'normal', 'untreated', 'unstimulated', 'shctrl', 'ctl', 'healthy', 'sictrl', 'sicontrol', 'ctr', 'wild']:\n",
    "        return 1\n",
    "    elif t in ['ko','kd', 'knockout', 'infected', 'treatment', 'knockdown', 'overexpression', 'overexpressed', 'case', 'crispr', 'mut', 'treated', 'tumor', 'cancer', 'wild']:\n",
    "        return 2\n",
    "    else: return 0\n",
    "\n",
    "frequent_terms = pd.DataFrame(frequent_terms_dict, index=['Frequency']).T.sort_values(by='Frequency', ascending=False).reset_index()\n",
    "frequent_terms.columns = ['Label', 'Frequency']\n",
    "frequent_terms['Category'] = frequent_terms['Label'].apply(categorize_labels)\n",
    "frequent_terms[frequent_terms['Frequency'] > 100].to_csv(f\"data/{species}v{gsm4sig_version}_frequent_terms.csv\")\n",
    "frequent_terms.head(100)"
   ]
  }
 ],
 "metadata": {
  "kernelspec": {
   "display_name": "Python 3",
   "language": "python",
   "name": "python3"
  },
  "language_info": {
   "codemirror_mode": {
    "name": "ipython",
    "version": 3
   },
   "file_extension": ".py",
   "mimetype": "text/x-python",
   "name": "python",
   "nbconvert_exporter": "python",
   "pygments_lexer": "ipython3",
   "version": "3.9.17"
  }
 },
 "nbformat": 4,
 "nbformat_minor": 5
}
