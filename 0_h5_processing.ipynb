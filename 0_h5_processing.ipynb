{
 "cells": [
  {
   "cell_type": "code",
   "execution_count": 3,
   "id": "1d2e31ea",
   "metadata": {},
   "outputs": [],
   "source": [
    "import pandas as pd\n",
    "import numpy as np\n",
    "import h5py as h5\n",
    "import re"
   ]
  },
  {
   "cell_type": "code",
   "execution_count": 27,
   "id": "1b58b433",
   "metadata": {},
   "outputs": [],
   "source": [
    "species = \"human\"\n",
    "version = \"2.2\"\n",
    "gsm4sig_version = 2\n",
    "\n",
    "single_cell_prob_thresh = 0.5"
   ]
  },
  {
   "cell_type": "code",
   "execution_count": 5,
   "id": "9db5e350",
   "metadata": {},
   "outputs": [],
   "source": [
    "f = h5.File('../'+species+\"_gene_v\"+version+\".h5\", \"r\")\n",
    "gse_scprob = np.array([\n",
    "    f[\"meta\"][\"samples\"][\"series_id\"], \n",
    "    f[\"meta\"][\"samples\"][\"geo_accession\"],\n",
    "    f[\"meta\"][\"samples\"][\"singlecellprobability\"],\n",
    "    f[\"meta\"][\"samples\"][\"title\"]\n",
    "]).T\n",
    "f.close()"
   ]
  },
  {
   "cell_type": "code",
   "execution_count": 6,
   "id": "003bf0b5",
   "metadata": {},
   "outputs": [
    {
     "name": "stdout",
     "output_type": "stream",
     "text": [
      "(722425, 4) \n",
      " [['GSE29282' 'GSM1000981' 0.007336067256529114\n",
      "  'OCI-LY1_48hrs_mRNAseq_3x_siNT_R1']\n",
      " ['GSE29282' 'GSM1000982' -0.006492279198109079\n",
      "  'OCI-LY1_48hrs_mRNAseq_3x_siNT_R2']\n",
      " ['GSE29282' 'GSM1000983' -0.006492279198109079\n",
      "  'OCI-LY1_48hrs_mRNAseq_3x_siNT_R3']\n",
      " ['GSE29282' 'GSM1000984' 0.007336067256529114\n",
      "  'OCI-LY1_48hrs_mRNAseq_3x_siBCL6_R1']\n",
      " ['GSE29282' 'GSM1000985' 0.03063220168783499\n",
      "  'OCI-LY1_48hrs_mRNAseq_3x_siBCL6_R2']\n",
      " ['GSE29282' 'GSM1000986' 0.007095580518495443\n",
      "  'OCI-LY1_48hrs_mRNAseq_3x_siBCL6_R3']\n",
      " ['GSE40819,GSE40820' 'GSM1002540' 0.1138180228552808 'mix1-rep1']\n",
      " ['GSE40819,GSE40820' 'GSM1002541' 0.08025961223571804 'mix2-rep1']\n",
      " ['GSE40819,GSE40820' 'GSM1002542' 0.25810680912829964 'mix3-rep1']\n",
      " ['GSE40819,GSE40820' 'GSM1002543' 0.05067398039179029 'mix4-rep1']]\n"
     ]
    }
   ],
   "source": [
    "gse_scprob[:, 0:2] = gse_scprob[:, 0:2].astype(str)\n",
    "gse_scprob[:, 3] = pd.Series(gse_scprob[:, 3]).str.decode(\"utf-8\")\n",
    "print(gse_scprob.shape, \"\\n\", gse_scprob[:10])"
   ]
  },
  {
   "cell_type": "code",
   "execution_count": 7,
   "id": "ed2092b8",
   "metadata": {},
   "outputs": [],
   "source": [
    "single_cell_samp = np.argwhere(gse_scprob[:, 2] > single_cell_prob_thresh)       #identify samples w/single cell prob > thresh\n",
    "single_cell_study = np.unique(gse_scprob[single_cell_samp][:,:,0])               #identify studies corresponding to sc samples\n",
    "bulk_study_bool = np.isin(gse_scprob[:, 0], single_cell_study, invert = True)    #boolean mask s.t. {T = bulk, F = sc}\n",
    "bulk_study_idx = np.arange(0, len(bulk_study_bool))[bulk_study_bool]             #index corresponding to bulk RNA-seq (T)\n",
    "bulk_study_meta = np.append(gse_scprob[bulk_study_bool],                         #filtering out scRNA-seq via boolean indexing\n",
    "                            bulk_study_idx[:, np.newaxis], axis = 1)             #and appending corresponding h5 index"
   ]
  },
  {
   "cell_type": "code",
   "execution_count": 8,
   "id": "65b4507c",
   "metadata": {},
   "outputs": [],
   "source": [
    "pd.DataFrame(bulk_study_meta).to_csv(\"data/\"\n",
    "    +species+\"_bulk_study_meta.csv\", \n",
    "    header=[\"series_id\", \"geo_accession\", \"singlecellprobability\", \"sample_title\", \"h5_idx\"])"
   ]
  },
  {
   "cell_type": "code",
   "execution_count": 9,
   "id": "75266adf",
   "metadata": {},
   "outputs": [
    {
     "data": {
      "text/plain": [
       "((344273, 5), 19665)"
      ]
     },
     "execution_count": 9,
     "metadata": {},
     "output_type": "execute_result"
    }
   ],
   "source": [
    "bulk_study_meta.shape, len(np.unique(bulk_study_meta[:, 0]))"
   ]
  },
  {
   "cell_type": "code",
   "execution_count": 19,
   "id": "934b59de",
   "metadata": {},
   "outputs": [],
   "source": [
    "frequent_terms_dict = {}\n",
    "for r in bulk_study_meta:\n",
    "    label = r[3]\n",
    "    terms = re.split(r'[_\\-. ,()\\[\\]]', label.strip('[]'))\n",
    "    for t in terms:\n",
    "        try:\n",
    "            if str(int(t)) == t:\n",
    "                continue\n",
    "        except:\n",
    "            t = t.lower()\n",
    "            if len(t.strip()) < 2:\n",
    "                continue\n",
    "            if t not in frequent_terms_dict:\n",
    "                frequent_terms_dict[t] = 0\n",
    "            frequent_terms_dict[t] += 1"
   ]
  },
  {
   "cell_type": "code",
   "execution_count": 28,
   "id": "98f52aeb",
   "metadata": {},
   "outputs": [
    {
     "data": {
      "text/html": [
       "<div>\n",
       "<style scoped>\n",
       "    .dataframe tbody tr th:only-of-type {\n",
       "        vertical-align: middle;\n",
       "    }\n",
       "\n",
       "    .dataframe tbody tr th {\n",
       "        vertical-align: top;\n",
       "    }\n",
       "\n",
       "    .dataframe thead th {\n",
       "        text-align: right;\n",
       "    }\n",
       "</style>\n",
       "<table border=\"1\" class=\"dataframe\">\n",
       "  <thead>\n",
       "    <tr style=\"text-align: right;\">\n",
       "      <th></th>\n",
       "      <th>Label</th>\n",
       "      <th>Frequency</th>\n",
       "      <th>Category</th>\n",
       "    </tr>\n",
       "  </thead>\n",
       "  <tbody>\n",
       "    <tr>\n",
       "      <th>0</th>\n",
       "      <td>rna</td>\n",
       "      <td>32778</td>\n",
       "      <td>0</td>\n",
       "    </tr>\n",
       "    <tr>\n",
       "      <th>1</th>\n",
       "      <td>seq</td>\n",
       "      <td>25912</td>\n",
       "      <td>0</td>\n",
       "    </tr>\n",
       "    <tr>\n",
       "      <th>2</th>\n",
       "      <td>rep1</td>\n",
       "      <td>16422</td>\n",
       "      <td>0</td>\n",
       "    </tr>\n",
       "    <tr>\n",
       "      <th>3</th>\n",
       "      <td>rep2</td>\n",
       "      <td>16134</td>\n",
       "      <td>0</td>\n",
       "    </tr>\n",
       "    <tr>\n",
       "      <th>4</th>\n",
       "      <td>control</td>\n",
       "      <td>13200</td>\n",
       "      <td>1</td>\n",
       "    </tr>\n",
       "    <tr>\n",
       "      <th>...</th>\n",
       "      <td>...</td>\n",
       "      <td>...</td>\n",
       "      <td>...</td>\n",
       "    </tr>\n",
       "    <tr>\n",
       "      <th>95</th>\n",
       "      <td>baseline</td>\n",
       "      <td>1132</td>\n",
       "      <td>0</td>\n",
       "    </tr>\n",
       "    <tr>\n",
       "      <th>96</th>\n",
       "      <td>lps</td>\n",
       "      <td>1126</td>\n",
       "      <td>0</td>\n",
       "    </tr>\n",
       "    <tr>\n",
       "      <th>97</th>\n",
       "      <td>muscle</td>\n",
       "      <td>1115</td>\n",
       "      <td>0</td>\n",
       "    </tr>\n",
       "    <tr>\n",
       "      <th>98</th>\n",
       "      <td>s1</td>\n",
       "      <td>1107</td>\n",
       "      <td>0</td>\n",
       "    </tr>\n",
       "    <tr>\n",
       "      <th>99</th>\n",
       "      <td>derived</td>\n",
       "      <td>1100</td>\n",
       "      <td>0</td>\n",
       "    </tr>\n",
       "  </tbody>\n",
       "</table>\n",
       "<p>100 rows × 3 columns</p>\n",
       "</div>"
      ],
      "text/plain": [
       "       Label  Frequency  Category\n",
       "0        rna      32778         0\n",
       "1        seq      25912         0\n",
       "2       rep1      16422         0\n",
       "3       rep2      16134         0\n",
       "4    control      13200         1\n",
       "..       ...        ...       ...\n",
       "95  baseline       1132         0\n",
       "96       lps       1126         0\n",
       "97    muscle       1115         0\n",
       "98        s1       1107         0\n",
       "99   derived       1100         0\n",
       "\n",
       "[100 rows x 3 columns]"
      ]
     },
     "execution_count": 28,
     "metadata": {},
     "output_type": "execute_result"
    }
   ],
   "source": [
    "def categorize_labels(t):\n",
    "    if t in ['wt', 'wildtype', 'control', 'cntrl', 'ctrl', 'uninfected', 'normal', 'untreated', 'unstimulated', 'shctrl', 'ctl', 'healthy', 'sictrl', 'sicontrol', 'ctr', 'wild']:\n",
    "        return 1\n",
    "    elif t in ['ko','kd', 'knockout', 'infected', 'treatment', 'knockdown', 'overexpression', 'overexpressed', 'case', 'crispr', 'mut', 'treated', 'tumor', 'cancer', 'wild']:\n",
    "        return 2\n",
    "    else: return 0\n",
    "\n",
    "frequent_terms = pd.DataFrame(frequent_terms_dict, index=['Frequency']).T.sort_values(by='Frequency', ascending=False).reset_index()\n",
    "frequent_terms.columns = ['Label', 'Frequency']\n",
    "frequent_terms['Category'] = frequent_terms['Label'].apply(categorize_labels)\n",
    "frequent_terms[frequent_terms['Frequency'] > 100].to_csv(f\"data/{species}v{gsm4sig_version}_frequent_terms.csv\")\n",
    "frequent_terms.head(100)"
   ]
  }
 ],
 "metadata": {
  "kernelspec": {
   "display_name": "Python 3",
   "language": "python",
   "name": "python3"
  },
  "language_info": {
   "codemirror_mode": {
    "name": "ipython",
    "version": 3
   },
   "file_extension": ".py",
   "mimetype": "text/x-python",
   "name": "python",
   "nbconvert_exporter": "python",
   "pygments_lexer": "ipython3",
   "version": "3.9.17"
  }
 },
 "nbformat": 4,
 "nbformat_minor": 5
}
